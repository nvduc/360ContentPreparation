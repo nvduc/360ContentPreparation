{
 "cells": [
  {
   "cell_type": "code",
   "execution_count": 3,
   "metadata": {},
   "outputs": [],
   "source": [
    "bitrate = []\n",
    "for f in range(0, 6):\n",
    "    for t in range(0, 4):\n",
    "        bitrate_tile = []\n",
    "        for QP in [40, 36, 32, 28, 24, 20]:\n",
    "            log_file = \"log_encode_RollerCoaster_f{}_t{}_480x480_x264_QP_{}.txt\".format(f, t, QP)\n",
    "            file = open(log_file, 'r')\n",
    "            lines = file.readlines()\n",
    "            bitrate_tile.append(float(lines[-1][lines[-1].find('kb/s:')+len('kb/s:'):-1]))\n",
    "            #break\n",
    "        bitrate.append(bitrate_tile)"
   ]
  },
  {
   "cell_type": "code",
   "execution_count": 4,
   "metadata": {},
   "outputs": [
    {
     "data": {
      "text/plain": [
       "QP40     1181.22\n",
       "QP36     1851.06\n",
       "QP32     3021.95\n",
       "QP28     5176.23\n",
       "QP24     9151.75\n",
       "QP20    16293.63\n",
       "dtype: float64"
      ]
     },
     "execution_count": 4,
     "metadata": {},
     "output_type": "execute_result"
    }
   ],
   "source": [
    "import pandas as pd\n",
    "\n",
    "df = pd.DataFrame(bitrate, columns=['QP40', 'QP36', 'QP32', 'QP28', 'QP24', 'QP20'])\n",
    "\n",
    "df.sum()"
   ]
  },
  {
   "cell_type": "code",
   "execution_count": 1,
   "metadata": {},
   "outputs": [],
   "source": [
    "bitrate = []\n",
    "for f in range(0, 1):\n",
    "    for t in range(0, 64):\n",
    "        bitrate_tile = []\n",
    "        for QP in [40, 36, 32, 28, 24, 20]:\n",
    "            log_file = \"log_encode_RollerCoaster_Tile_{}_480x240_x264_QP_{}.txt\".format(t, QP)\n",
    "            file = open(log_file, 'r')\n",
    "            lines = file.readlines()\n",
    "            bitrate_tile.append(float(lines[-1][lines[-1].find('kb/s:')+len('kb/s:'):-1]))\n",
    "            #break\n",
    "        bitrate.append(bitrate_tile)"
   ]
  },
  {
   "cell_type": "code",
   "execution_count": 2,
   "metadata": {},
   "outputs": [
    {
     "data": {
      "text/plain": [
       "QP40     1502.75\n",
       "QP36     2254.02\n",
       "QP32     3513.16\n",
       "QP28     5700.34\n",
       "QP24     9200.32\n",
       "QP20    14649.50\n",
       "dtype: float64"
      ]
     },
     "execution_count": 2,
     "metadata": {},
     "output_type": "execute_result"
    }
   ],
   "source": [
    "import pandas as pd\n",
    "\n",
    "df = pd.DataFrame(bitrate, columns=['QP40', 'QP36', 'QP32', 'QP28', 'QP24', 'QP20'])\n",
    "\n",
    "df.sum()"
   ]
  }
 ],
 "metadata": {
  "kernelspec": {
   "display_name": "Python 3",
   "language": "python",
   "name": "python3"
  },
  "language_info": {
   "codemirror_mode": {
    "name": "ipython",
    "version": 3
   },
   "file_extension": ".py",
   "mimetype": "text/x-python",
   "name": "python",
   "nbconvert_exporter": "python",
   "pygments_lexer": "ipython3",
   "version": "3.7.3"
  }
 },
 "nbformat": 4,
 "nbformat_minor": 2
}
